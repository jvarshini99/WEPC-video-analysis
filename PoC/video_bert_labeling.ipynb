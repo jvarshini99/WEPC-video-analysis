{
  "cells": [
    {
      "attachments": {},
      "cell_type": "markdown",
      "metadata": {
        "id": "J6SNUdO0Tu8n"
      },
      "source": [
        "# Video Labeling\n",
        "Since this repo mainly involves running of python scripts, we did not incorporate them into a comprehensive jupyter notebook and instead only displayed the terminal commands used to invoke each step, resulting in a unsupervised approach to video frames labeling and grouping.\n",
        "\n",
        "1st step: feature extraction with the I3D model (Those for demonstration purpose)<br>\n",
        "The I3D model is used to extract the features for every 1.5 seconds of video while saving the median image of the 1.5 seconds of video as a visual representation."
      ]
    },
    {
      "cell_type": "code",
      "execution_count": null,
      "metadata": {
        "id": "d0iw03duV55S"
      },
      "outputs": [],
      "source": [
        "python3 VideoBERT/VideoBERT/I3D/batch_extract.py -h\n",
        "usage: batch_extract.py [-h] -f FILE_LIST_PATH -r ROOT_VIDEO_PATH -s FEATURES_SAVE_PATH -i IMGS_SAVE_PATH"
      ]
    },
    {
      "attachments": {},
      "cell_type": "markdown",
      "metadata": {
        "id": "VHbChC50WQt0"
      },
      "source": [
        "2nd step: Hierarchical Minibatch K-means<br>\n",
        "To find the centroids for the feature vectors, minibatch k-means is used hierarchically to save time and memory. After this, the nearest feature vector for each centroid is found, and the corresponding image is chosen to represent tht centroid. "
      ]
    },
    {
      "cell_type": "code",
      "execution_count": null,
      "metadata": {
        "id": "ghaT-UCMWQb3"
      },
      "outputs": [],
      "source": [
        "python3 VideoBERT/VideoBERT/I3D/minibatch_hkmeans.py -h \n",
        "usage: minibatch_hkmeans.py [-h] -r ROOT_FEATURE_PATH -p FEATURES_PREFIX [-b BATCH_SIZE] -s SAVE_DIR -c CENTROID_DIR"
      ]
    },
    {
      "attachments": {},
      "cell_type": "markdown",
      "metadata": {
        "id": "UIIHW4LnWpPG"
      },
      "source": [
        "After doing K-means, one image representing each centroid are found so that videos can be represented visually during inference."
      ]
    },
    {
      "cell_type": "code",
      "execution_count": null,
      "metadata": {
        "id": "TCmQ1HPFWtFH"
      },
      "outputs": [],
      "source": [
        "python3 VideoBERT/VideoBERT/data/centroid_to_img.py -h \n",
        "usage: centroid_to_img.py [-h] -f ROOT_FEATURES -i ROOT_IMGS -c CENTROID_FILE -s SAVE_FILE"
      ]
    },
    {
      "attachments": {},
      "cell_type": "markdown",
      "metadata": {
        "id": "7FTwR3n5XFSk"
      },
      "source": [
        "3rd step: Label and group data<br>\n",
        "Using the centroids, videos are tokenized and text captions are punctuated. Using the timestamps for each caption, video ids are extracted and paired with the text captions in the training data file."
      ]
    },
    {
      "cell_type": "code",
      "execution_count": null,
      "metadata": {
        "id": "1-rdZUnVW-XO"
      },
      "outputs": [],
      "source": [
        " python3 VideoBERT/VideoBERT/data/label_data.py -f saved_features/ -c centroid_results/centroids-1728.npy -s labelled_data"
      ]
    },
    {
      "cell_type": "markdown",
      "metadata": {
        "id": "Z-SN--K-Xb41"
      },
      "source": [
        "The output is a json file that contains all saved labelled data for each video. \n",
        "\n",
        "![image.png](data:image/png;base64,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)\n",
        "\n",
        "For example, for each video, it labelled each frame to different clusters from 0 to 9. It is based on algorthims that find the simlairty and based on our pre-defined number of unique clusters."
      ]
    },
    {
      "cell_type": "markdown",
      "metadata": {
        "id": "tJvYpneoX_dr"
      },
      "source": [
        "After that the following file can be run to both punctuate text and group the text with the corresponding video. This uses the Punctuator module, which requires a .pcl model file to punctuate the data. Also we use the captions generated from the other task."
      ]
    },
    {
      "cell_type": "code",
      "execution_count": null,
      "metadata": {
        "id": "k2VzYF7HZXCT"
      },
      "outputs": [],
      "source": [
        "python3 VideoBERT/VideoBERT/data/punctuate_text.py -h \n",
        "usage: punctuate_text.py [-h] -c CAPTIONS_PATH -p PUNCTUATOR_MODEL -l LABELLED_DATA -f ROOT_FEATURES -s SAVE_PATH"
      ]
    },
    {
      "attachments": {},
      "cell_type": "markdown",
      "metadata": {
        "id": "Nb_vjU0iZ3gR"
      },
      "source": [
        "From the original repo the next steps are training a BERT model that is capable of categorizing frames from unseen clips. Due to time and computational resource limits we were unable to train such a model. Hence the progress on this track is halted."
      ]
    }
  ],
  "metadata": {
    "colab": {
      "provenance": []
    },
    "kernelspec": {
      "display_name": "Python 3",
      "language": "python",
      "name": "python3"
    },
    "language_info": {
      "codemirror_mode": {
        "name": "ipython",
        "version": 3
      },
      "file_extension": ".py",
      "mimetype": "text/x-python",
      "name": "python",
      "nbconvert_exporter": "python",
      "pygments_lexer": "ipython3",
      "version": "3.8.6"
    }
  },
  "nbformat": 4,
  "nbformat_minor": 0
}
